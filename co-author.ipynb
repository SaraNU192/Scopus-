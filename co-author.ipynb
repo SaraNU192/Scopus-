{
 "cells": [
  {
   "cell_type": "code",
   "execution_count": null,
   "metadata": {},
   "outputs": [
    {
     "ename": "",
     "evalue": "",
     "output_type": "error",
     "traceback": [
      "\u001b[1;31mRunning cells with '/usr/local/bin/python3.12' requires the ipykernel package.\n",
      "\u001b[1;31mRun the following command to install 'ipykernel' into the Python environment. \n",
      "\u001b[1;31mCommand: '/usr/local/bin/python3.12 -m pip install ipykernel -U --user --force-reinstall'"
     ]
    }
   ],
   "source": [
    "import requests\n",
    "\n",
    "def search_scopus_author(query, api_key):\n",
    "    url = \"https://api.elsevier.com/content/search/author\"\n",
    "    headers = {\n",
    "        \"X-ELS-APIKey\": api_key\n",
    "    }\n",
    "    params = {\n",
    "        \"query\": query\n",
    "    }\n",
    "\n",
    "    try:\n",
    "        response = requests.get(url, headers=headers, params=params)\n",
    "        response.raise_for_status()  # Check for any HTTP errors\n",
    "        data = response.json()\n",
    "\n",
    "        # Parse the response and extract author information\n",
    "        authors = data.get(\"search-results\", {}).get(\"entry\", [])\n",
    "\n",
    "        if authors:\n",
    "            print(f\"Found {len(authors)} authors matching the query '{query}':\")\n",
    "            for author in authors:\n",
    "                author_name = author.get(\"preferred-name\", {}).get(\"indexed-name\", \"\")\n",
    "                author_id = author.get(\"dc:identifier\", \"\").split(\":\")[-1]\n",
    "                print(f\"- {author_name} (Scopus Author ID: {author_id})\")\n",
    "\n",
    "                # Retrieve co-authors for the current author\n",
    "                coauthor_url = f\"https://api.elsevier.com/content/author/co-author?author_id={author_id}\"\n",
    "                coauthor_response = requests.get(coauthor_url, headers=headers)\n",
    "                coauthor_data = coauthor_response.json()\n",
    "\n",
    "                coauthors = coauthor_data.get(\"author-retrieval-response\", {}).get(\"co-authors\", [])\n",
    "                if coauthors:\n",
    "                    print(\"  Co-Authors:\")\n",
    "                    for coauthor in coauthors:\n",
    "                        coauthor_name = coauthor.get(\"preferred-name\", {}).get(\"indexed-name\", \"\")\n",
    "                        coauthor_id = coauthor.get(\"author-url\", \"\").split(\"/\")[-1]\n",
    "                        print(f\"    - {coauthor_name} (Scopus Author ID: {coauthor_id})\")\n",
    "                else:\n",
    "                    print(\"  No co-authors found.\")\n",
    "\n",
    "        else:\n",
    "            print(f\"No authors found matching the query '{query}'.\")\n",
    "\n",
    "    except requests.exceptions.HTTPError as err:\n",
    "        print(f\"HTTP error occurred: {err}\")\n",
    "    except Exception as e:\n",
    "        print(f\"An error occurred: {e}\")\n",
    "\n",
    "# Replace these with your actual query and API key\n",
    "search_query = \"John Smith\"  # Example author name to search for\n",
    "api_key = \"af1361e4e58683804f723b56fed20175\"  # Your Scopus API key\n",
    "\n",
    "search_scopus_author(search_query, api_key)\n"
   ]
  }
 ],
 "metadata": {
  "kernelspec": {
   "display_name": "Python 3",
   "language": "python",
   "name": "python3"
  },
  "language_info": {
   "name": "python",
   "version": "3.12.0"
  }
 },
 "nbformat": 4,
 "nbformat_minor": 2
}
