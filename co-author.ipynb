{
 "cells": [
  {
   "cell_type": "code",
   "execution_count": 1,
   "metadata": {},
   "outputs": [
    {
     "name": "stdout",
     "output_type": "stream",
     "text": [
      "ahmedgom@yahoo.com\n",
      "asoliman@ieee.org\n"
     ]
    }
   ],
   "source": [
    "from selenium import webdriver\n",
    "from selenium.webdriver.common.by import By\n",
    "import time \n",
    "from selenium.webdriver.support.ui import Select\n",
    "import pandas as pd\n",
    "import openpyxl\n",
    "import re\n",
    "import os\n",
    "import glob\n",
    "driver = webdriver.Chrome()\n",
    "driver.get('https://scholar.google.com/citations?view_op=search_authors')\n",
    "search_bttn = driver.find_element(By.XPATH, '//*[@id=\"gs_hdr_tsi\"]')\n",
    "search_bttn.send_keys(\"Radwan,A.\")\n",
    "click_search_btnn =   driver.find_element(By.XPATH, '//*[@id=\"gs_hdr_tsb\"]/span/span[1]').click()\n",
    "click_on_author = driver.find_element(By.XPATH, '//*[@id=\"gsc_sa_ccl\"]/div[1]/div/div/h3/a').click()\n",
    "click_on_first_publication =  driver.find_element(By.XPATH, '//*[@id=\"gsc_a_b\"]/tr[1]/td[1]/a').click()\n",
    "click_on_pub_link =  driver.find_element(By.XPATH,'//*[@id=\"gsc_oci_title_gg\"]/div').click()\n",
    "click_on_email_icon = driver.find_element(By.XPATH,'//*[@id=\"author-group\"]/button[1]/span/span[1]').click()\n",
    "copy_email =  driver.find_element(By.XPATH,'//*[@id=\"side-panel-author\"]/div[3]/a/span').text\n",
    "print(copy_email)\n",
    "click_on_email_icon_2 = driver.find_element(By.XPATH, '//*[@id=\"author-group\"]/button[2]').click()\n",
    "copy_email_2 = driver.find_element(By.XPATH,'//*[@id=\"side-panel-author\"]/div[4]/a/span').text\n",
    "print(copy_email_2)\n"
   ]
  }
 ],
 "metadata": {
  "kernelspec": {
   "display_name": "Python 3",
   "language": "python",
   "name": "python3"
  },
  "language_info": {
   "codemirror_mode": {
    "name": "ipython",
    "version": 3
   },
   "file_extension": ".py",
   "mimetype": "text/x-python",
   "name": "python",
   "nbconvert_exporter": "python",
   "pygments_lexer": "ipython3",
   "version": "3.11.8"
  }
 },
 "nbformat": 4,
 "nbformat_minor": 2
}
